{
 "cells": [
  {
   "cell_type": "code",
   "execution_count": 0,
   "metadata": {
    "application/vnd.databricks.v1+cell": {
     "cellMetadata": {},
     "inputWidgets": {},
     "nuid": "cbe0e0d2-bda2-409b-b51c-7568967ba145",
     "showTitle": false,
     "title": ""
    }
   },
   "outputs": [
    {
     "output_type": "stream",
     "name": "stdout",
     "output_type": "stream",
     "text": [
      "Python interpreter will be restarted.\nRequirement already satisfied: sparknlp in /local_disk0/.ephemeral_nfs/envs/pythonEnv-be2723a4-7968-49c0-8dcd-a9bd195a64f9/lib/python3.9/site-packages (1.0.0)\nRequirement already satisfied: mlflow in /local_disk0/.ephemeral_nfs/envs/pythonEnv-be2723a4-7968-49c0-8dcd-a9bd195a64f9/lib/python3.9/site-packages (2.11.1)\nRequirement already satisfied: numpy in /databricks/python3/lib/python3.9/site-packages (from sparknlp) (1.21.5)\nRequirement already satisfied: spark-nlp in /local_disk0/.ephemeral_nfs/cluster_libraries/python/lib/python3.9/site-packages (from sparknlp) (5.3.1)\nRequirement already satisfied: docker<8,>=4.0.0 in /local_disk0/.ephemeral_nfs/envs/pythonEnv-be2723a4-7968-49c0-8dcd-a9bd195a64f9/lib/python3.9/site-packages (from mlflow) (7.0.0)\nRequirement already satisfied: gitpython<4,>=3.1.9 in /local_disk0/.ephemeral_nfs/envs/pythonEnv-be2723a4-7968-49c0-8dcd-a9bd195a64f9/lib/python3.9/site-packages (from mlflow) (3.1.42)\nRequirement already satisfied: pyarrow<16,>=4.0.0 in /databricks/python3/lib/python3.9/site-packages (from mlflow) (7.0.0)\nRequirement already satisfied: graphene<4 in /local_disk0/.ephemeral_nfs/envs/pythonEnv-be2723a4-7968-49c0-8dcd-a9bd195a64f9/lib/python3.9/site-packages (from mlflow) (3.3)\nRequirement already satisfied: pyyaml<7,>=5.1 in /local_disk0/.ephemeral_nfs/envs/pythonEnv-be2723a4-7968-49c0-8dcd-a9bd195a64f9/lib/python3.9/site-packages (from mlflow) (6.0.1)\nRequirement already satisfied: cloudpickle<4 in /local_disk0/.ephemeral_nfs/envs/pythonEnv-be2723a4-7968-49c0-8dcd-a9bd195a64f9/lib/python3.9/site-packages (from mlflow) (3.0.0)\nRequirement already satisfied: pytz<2025 in /databricks/python3/lib/python3.9/site-packages (from mlflow) (2021.3)\nRequirement already satisfied: protobuf<5,>=3.12.0 in /databricks/python3/lib/python3.9/site-packages (from mlflow) (3.19.4)\nRequirement already satisfied: requests<3,>=2.17.3 in /databricks/python3/lib/python3.9/site-packages (from mlflow) (2.27.1)\nRequirement already satisfied: alembic!=1.10.0,<2 in /local_disk0/.ephemeral_nfs/envs/pythonEnv-be2723a4-7968-49c0-8dcd-a9bd195a64f9/lib/python3.9/site-packages (from mlflow) (1.13.1)\nRequirement already satisfied: Jinja2<4,>=2.11 in /local_disk0/.ephemeral_nfs/envs/pythonEnv-be2723a4-7968-49c0-8dcd-a9bd195a64f9/lib/python3.9/site-packages (from mlflow) (3.1.3)\nRequirement already satisfied: scipy<2 in /databricks/python3/lib/python3.9/site-packages (from mlflow) (1.7.3)\nRequirement already satisfied: matplotlib<4 in /databricks/python3/lib/python3.9/site-packages (from mlflow) (3.5.1)\nRequirement already satisfied: scikit-learn<2 in /databricks/python3/lib/python3.9/site-packages (from mlflow) (1.0.2)\nRequirement already satisfied: importlib-metadata!=4.7.0,<8,>=3.7.0 in /local_disk0/.ephemeral_nfs/envs/pythonEnv-be2723a4-7968-49c0-8dcd-a9bd195a64f9/lib/python3.9/site-packages (from mlflow) (7.0.2)\nRequirement already satisfied: entrypoints<1 in /databricks/python3/lib/python3.9/site-packages (from mlflow) (0.4)\nRequirement already satisfied: markdown<4,>=3.3 in /local_disk0/.ephemeral_nfs/envs/pythonEnv-be2723a4-7968-49c0-8dcd-a9bd195a64f9/lib/python3.9/site-packages (from mlflow) (3.5.2)\nRequirement already satisfied: pandas<3 in /databricks/python3/lib/python3.9/site-packages (from mlflow) (1.4.2)\nRequirement already satisfied: querystring-parser<2 in /local_disk0/.ephemeral_nfs/envs/pythonEnv-be2723a4-7968-49c0-8dcd-a9bd195a64f9/lib/python3.9/site-packages (from mlflow) (1.2.4)\nRequirement already satisfied: gunicorn<22 in /local_disk0/.ephemeral_nfs/envs/pythonEnv-be2723a4-7968-49c0-8dcd-a9bd195a64f9/lib/python3.9/site-packages (from mlflow) (21.2.0)\nRequirement already satisfied: Flask<4 in /local_disk0/.ephemeral_nfs/envs/pythonEnv-be2723a4-7968-49c0-8dcd-a9bd195a64f9/lib/python3.9/site-packages (from mlflow) (3.0.2)\nRequirement already satisfied: sqlalchemy<3,>=1.4.0 in /local_disk0/.ephemeral_nfs/envs/pythonEnv-be2723a4-7968-49c0-8dcd-a9bd195a64f9/lib/python3.9/site-packages (from mlflow) (2.0.28)\nRequirement already satisfied: packaging<24 in /databricks/python3/lib/python3.9/site-packages (from mlflow) (21.3)\nRequirement already satisfied: sqlparse<1,>=0.4.0 in /local_disk0/.ephemeral_nfs/envs/pythonEnv-be2723a4-7968-49c0-8dcd-a9bd195a64f9/lib/python3.9/site-packages (from mlflow) (0.4.4)\nRequirement already satisfied: click<9,>=7.0 in /local_disk0/.ephemeral_nfs/envs/pythonEnv-be2723a4-7968-49c0-8dcd-a9bd195a64f9/lib/python3.9/site-packages (from mlflow) (8.1.7)\nRequirement already satisfied: Mako in /local_disk0/.ephemeral_nfs/envs/pythonEnv-be2723a4-7968-49c0-8dcd-a9bd195a64f9/lib/python3.9/site-packages (from alembic!=1.10.0,<2->mlflow) (1.3.2)\nRequirement already satisfied: typing-extensions>=4 in /local_disk0/.ephemeral_nfs/envs/pythonEnv-be2723a4-7968-49c0-8dcd-a9bd195a64f9/lib/python3.9/site-packages (from alembic!=1.10.0,<2->mlflow) (4.10.0)\nRequirement already satisfied: urllib3>=1.26.0 in /databricks/python3/lib/python3.9/site-packages (from docker<8,>=4.0.0->mlflow) (1.26.9)\nRequirement already satisfied: Werkzeug>=3.0.0 in /local_disk0/.ephemeral_nfs/envs/pythonEnv-be2723a4-7968-49c0-8dcd-a9bd195a64f9/lib/python3.9/site-packages (from Flask<4->mlflow) (3.0.1)\nRequirement already satisfied: blinker>=1.6.2 in /local_disk0/.ephemeral_nfs/envs/pythonEnv-be2723a4-7968-49c0-8dcd-a9bd195a64f9/lib/python3.9/site-packages (from Flask<4->mlflow) (1.7.0)\nRequirement already satisfied: itsdangerous>=2.1.2 in /local_disk0/.ephemeral_nfs/envs/pythonEnv-be2723a4-7968-49c0-8dcd-a9bd195a64f9/lib/python3.9/site-packages (from Flask<4->mlflow) (2.1.2)\nRequirement already satisfied: gitdb<5,>=4.0.1 in /local_disk0/.ephemeral_nfs/envs/pythonEnv-be2723a4-7968-49c0-8dcd-a9bd195a64f9/lib/python3.9/site-packages (from gitpython<4,>=3.1.9->mlflow) (4.0.11)\nRequirement already satisfied: smmap<6,>=3.0.1 in /local_disk0/.ephemeral_nfs/envs/pythonEnv-be2723a4-7968-49c0-8dcd-a9bd195a64f9/lib/python3.9/site-packages (from gitdb<5,>=4.0.1->gitpython<4,>=3.1.9->mlflow) (5.0.1)\nRequirement already satisfied: aniso8601<10,>=8 in /local_disk0/.ephemeral_nfs/envs/pythonEnv-be2723a4-7968-49c0-8dcd-a9bd195a64f9/lib/python3.9/site-packages (from graphene<4->mlflow) (9.0.1)\nRequirement already satisfied: graphql-relay<3.3,>=3.1 in /local_disk0/.ephemeral_nfs/envs/pythonEnv-be2723a4-7968-49c0-8dcd-a9bd195a64f9/lib/python3.9/site-packages (from graphene<4->mlflow) (3.2.0)\nRequirement already satisfied: graphql-core<3.3,>=3.1 in /local_disk0/.ephemeral_nfs/envs/pythonEnv-be2723a4-7968-49c0-8dcd-a9bd195a64f9/lib/python3.9/site-packages (from graphene<4->mlflow) (3.2.3)\nRequirement already satisfied: zipp>=0.5 in /local_disk0/.ephemeral_nfs/envs/pythonEnv-be2723a4-7968-49c0-8dcd-a9bd195a64f9/lib/python3.9/site-packages (from importlib-metadata!=4.7.0,<8,>=3.7.0->mlflow) (3.17.0)\nRequirement already satisfied: MarkupSafe>=2.0 in /local_disk0/.ephemeral_nfs/envs/pythonEnv-be2723a4-7968-49c0-8dcd-a9bd195a64f9/lib/python3.9/site-packages (from Jinja2<4,>=2.11->mlflow) (2.1.5)\nRequirement already satisfied: python-dateutil>=2.7 in /databricks/python3/lib/python3.9/site-packages (from matplotlib<4->mlflow) (2.8.2)\nRequirement already satisfied: fonttools>=4.22.0 in /databricks/python3/lib/python3.9/site-packages (from matplotlib<4->mlflow) (4.25.0)\nRequirement already satisfied: kiwisolver>=1.0.1 in /databricks/python3/lib/python3.9/site-packages (from matplotlib<4->mlflow) (1.3.2)\nRequirement already satisfied: pyparsing>=2.2.1 in /databricks/python3/lib/python3.9/site-packages (from matplotlib<4->mlflow) (3.0.4)\nRequirement already satisfied: cycler>=0.10 in /databricks/python3/lib/python3.9/site-packages (from matplotlib<4->mlflow) (0.11.0)\nRequirement already satisfied: pillow>=6.2.0 in /databricks/python3/lib/python3.9/site-packages (from matplotlib<4->mlflow) (9.0.1)\nRequirement already satisfied: six>=1.5 in /databricks/python3/lib/python3.9/site-packages (from python-dateutil>=2.7->matplotlib<4->mlflow) (1.16.0)\nRequirement already satisfied: idna<4,>=2.5 in /databricks/python3/lib/python3.9/site-packages (from requests<3,>=2.17.3->mlflow) (3.3)\nRequirement already satisfied: charset-normalizer~=2.0.0 in /databricks/python3/lib/python3.9/site-packages (from requests<3,>=2.17.3->mlflow) (2.0.4)\nRequirement already satisfied: certifi>=2017.4.17 in /databricks/python3/lib/python3.9/site-packages (from requests<3,>=2.17.3->mlflow) (2021.10.8)\nRequirement already satisfied: threadpoolctl>=2.0.0 in /databricks/python3/lib/python3.9/site-packages (from scikit-learn<2->mlflow) (2.2.0)\nRequirement already satisfied: joblib>=0.11 in /databricks/python3/lib/python3.9/site-packages (from scikit-learn<2->mlflow) (1.1.1)\nRequirement already satisfied: greenlet!=0.4.17 in /local_disk0/.ephemeral_nfs/envs/pythonEnv-be2723a4-7968-49c0-8dcd-a9bd195a64f9/lib/python3.9/site-packages (from sqlalchemy<3,>=1.4.0->mlflow) (3.0.3)\nPython interpreter will be restarted.\n"
     ]
    }
   ],
   "source": [
    "%pip install sparknlp mlflow"
   ]
  },
  {
   "cell_type": "code",
   "execution_count": 0,
   "metadata": {
    "application/vnd.databricks.v1+cell": {
     "cellMetadata": {},
     "inputWidgets": {},
     "nuid": "290490d6-8434-4322-9bbd-86c318bf1bad",
     "showTitle": false,
     "title": ""
    }
   },
   "outputs": [
    {
     "output_type": "display_data",
     "data": {
      "text/html": [
       "<style scoped>\n",
       "  .ansiout {\n",
       "    display: block;\n",
       "    unicode-bidi: embed;\n",
       "    white-space: pre-wrap;\n",
       "    word-wrap: break-word;\n",
       "    word-break: break-all;\n",
       "    font-family: \"Menlo\", \"Monaco\", \"Consolas\", \"Ubuntu Mono\", \"Source Code Pro\", monospace;\n",
       "    font-size: 13px;\n",
       "    color: #555;\n",
       "    margin-left: 4px;\n",
       "    line-height: 19px;\n",
       "  }\n",
       "</style>"
      ]
     },
     "metadata": {
      "application/vnd.databricks.v1+output": {
       "arguments": {},
       "data": "",
       "errorSummary": "Cancelled",
       "errorTraceType": null,
       "metadata": {},
       "type": "ipynbError"
      }
     },
     "output_type": "display_data"
    }
   ],
   "source": [
    "%pip install nltk"
   ]
  },
  {
   "cell_type": "markdown",
   "metadata": {
    "application/vnd.databricks.v1+cell": {
     "cellMetadata": {},
     "inputWidgets": {},
     "nuid": "2f43b394-83e7-49db-bf5f-f8e249d3f718",
     "showTitle": false,
     "title": ""
    }
   },
   "source": [
    "Q2: Search Engine for Movie Plot Summaries "
   ]
  },
  {
   "cell_type": "code",
   "execution_count": 0,
   "metadata": {
    "application/vnd.databricks.v1+cell": {
     "cellMetadata": {},
     "inputWidgets": {},
     "nuid": "e1d4143a-fef8-4986-ad84-9aa9caa214e9",
     "showTitle": false,
     "title": ""
    }
   },
   "outputs": [
    {
     "output_type": "stream",
     "name": "stdout",
     "output_type": "stream",
     "text": [
      "stopwords_iso download started this may take some time.\nApproximate size to download 2.1 KB\n\r[ | ]\r[OK!]\n"
     ]
    }
   ],
   "source": [
    "# Build pipeline for stopword remover\n",
    "\n",
    "documentAssembler = DocumentAssembler() \\\n",
    ".setInputCol(\"text\") \\\n",
    ".setOutputCol(\"document\")\n",
    "\n",
    "tokenizer = Tokenizer() \\\n",
    ".setInputCols([\"document\"]) \\\n",
    ".setOutputCol(\"token\")\n",
    "\n",
    "stop_words = StopWordsCleaner.pretrained(\"stopwords_iso\",\"en\") \\\n",
    ".setInputCols([\"token\"]) \\\n",
    ".setOutputCol(\"cleanTokens\")\n",
    "\n",
    "sw_pipeline = Pipeline(stages=[documentAssembler, tokenizer, stop_words]) \n"
   ]
  },
  {
   "cell_type": "code",
   "execution_count": 0,
   "metadata": {
    "application/vnd.databricks.v1+cell": {
     "cellMetadata": {},
     "inputWidgets": {},
     "nuid": "b4bfae19-0608-490c-8bc6-4dde769d0fdc",
     "showTitle": false,
     "title": ""
    }
   },
   "outputs": [],
   "source": [
    "from pyspark.sql.functions import col "
   ]
  },
  {
   "cell_type": "code",
   "execution_count": 0,
   "metadata": {
    "application/vnd.databricks.v1+cell": {
     "cellMetadata": {},
     "inputWidgets": {},
     "nuid": "1e88e139-711e-424a-9db6-2d6513e534f8",
     "showTitle": false,
     "title": ""
    }
   },
   "outputs": [],
   "source": [
    "import numpy as np"
   ]
  },
  {
   "cell_type": "code",
   "execution_count": 0,
   "metadata": {
    "application/vnd.databricks.v1+cell": {
     "cellMetadata": {},
     "inputWidgets": {},
     "nuid": "a95ba320-4ec0-45a4-86bc-b94822955077",
     "showTitle": false,
     "title": ""
    }
   },
   "outputs": [],
   "source": [
    "from math import log "
   ]
  },
  {
   "cell_type": "code",
   "execution_count": 0,
   "metadata": {
    "application/vnd.databricks.v1+cell": {
     "cellMetadata": {},
     "inputWidgets": {},
     "nuid": "d31b52f1-6713-4606-b167-600fff0a7afc",
     "showTitle": false,
     "title": ""
    }
   },
   "outputs": [
    {
     "output_type": "stream",
     "name": "stderr",
     "output_type": "stream",
     "text": [
      "[nltk_data] Downloading package stopwords to /root/nltk_data...\n[nltk_data]   Package stopwords is already up-to-date!\n[nltk_data] Downloading package punkt to /root/nltk_data...\n[nltk_data]   Package punkt is already up-to-date!\n"
     ]
    }
   ],
   "source": [
    "import nltk\n",
    "from nltk.corpus import stopwords \n",
    "nltk.download('stopwords')\n",
    "nltk.download('punkt')\n",
    "from nltk.tokenize import word_tokenize\n",
    "stop_words = set(stopwords.words('english'))"
   ]
  },
  {
   "cell_type": "code",
   "execution_count": 0,
   "metadata": {
    "application/vnd.databricks.v1+cell": {
     "cellMetadata": {},
     "inputWidgets": {},
     "nuid": "c1b7a126-164c-44b7-9fe4-2ca7b1982f02",
     "showTitle": false,
     "title": ""
    }
   },
   "outputs": [],
   "source": [
    "# Import movie summaries as dataframe\n",
    "df = spark.read.option(\"header\",\"false\").option(\"delimiter\", \"\\t\").csv(\"dbfs:/FileStore/shared_uploads/exc220012@utdallas.edu/plot_summaries.txt\") "
   ]
  },
  {
   "cell_type": "code",
   "execution_count": 0,
   "metadata": {
    "application/vnd.databricks.v1+cell": {
     "cellMetadata": {},
     "inputWidgets": {},
     "nuid": "10fa916f-efe5-4edd-874f-494d398fda9d",
     "showTitle": false,
     "title": ""
    }
   },
   "outputs": [],
   "source": [
    "# Stop words pipeline functions require a text column, so rename columns of df accordingly\n",
    "df = df.select(col(\"_c0\").alias(\"ID\"), col(\"_c1\").alias(\"text\"))"
   ]
  },
  {
   "cell_type": "code",
   "execution_count": 0,
   "metadata": {
    "application/vnd.databricks.v1+cell": {
     "cellMetadata": {},
     "inputWidgets": {},
     "nuid": "dc9e4c67-f20c-4b4b-bbac-f384b0a176a3",
     "showTitle": false,
     "title": ""
    }
   },
   "outputs": [],
   "source": [
    "# Transform data frame using stopwords pipeline\n",
    "results = sw_pipeline.fit(df).transform(df)"
   ]
  },
  {
   "cell_type": "code",
   "execution_count": 0,
   "metadata": {
    "application/vnd.databricks.v1+cell": {
     "cellMetadata": {},
     "inputWidgets": {},
     "nuid": "09531b60-3ffe-4907-83eb-b130e7a32a4f",
     "showTitle": false,
     "title": ""
    }
   },
   "outputs": [
    {
     "output_type": "stream",
     "name": "stdout",
     "output_type": "stream",
     "text": [
      "+--------+--------------------------------------------------------------------------------------------------------------------------------------------------------------------------------------------------------+\n|      id|                                                                                                                                                                                                  result|\n+--------+--------------------------------------------------------------------------------------------------------------------------------------------------------------------------------------------------------+\n|23890098|                                [Shlykov, ,, hard-working, taxi, driver, Lyosha, ,, saxophonist, ,, develop, bizarre, love-hate, relationship, ,, despite, prejudices, ,, realize, aren't, different, .]|\n|31186339|[nation, Panem, consists, wealthy, Capitol, poorer, districts, ., punishment, past, rebellion, ,, district, provide, boy, girl, ages, 12, 18, selected, lottery, annual, Hunger, Games, ., tributes, ...|\n|20663735|[Poovalli, Induchoodan, sentenced, years, prison, life, murdering, classmate, ., Induchoodan, ,, son, Justice, Maranchery, Karunakara, Menon, framed, case, Manapally, Madhavan, Nambiar, crony, DYSP...|\n| 2231378|[Lemon, Drop, Kid, ,, New, York, City, swindler, ,, illegally, touting, horses, Florida, racetrack, ., successful, hustles, ,, Kid, comes, beautiful, ,, gullible, ,, woman, intending, bet, lot, mon...|\n|  595909|[Seventh-day, Adventist, Church, pastor, Michael, Chamberlain, ,, wife, Lindy, ,, sons, ,, nine-week-old, daughter, Azaria, camping, holiday, Outback, ., baby, sleeping, tent, ,, family, enjoying, ...|\n| 5272176|[president, way, speech, ., traveling, man, shows, camera, ., reporter, tries, ask, member, secret, service, question, ., president, enters, shot, man, camera, ., president's, main, bodyguard, ,, A...|\n| 1952976|[{{plot}}, film, opens, 1974, ,, young, girl, ,, Dahlia, ,, stands, outside, school, rain, ,, waiting, mother, ., Flash, forward, 2005, ,, grown-up, Dahlia, midst, bitter, mediation, ex-husband, ,,...|\n|24225279|[story, begins, Hannah, ,, young, Jewish, teen, ,, completing, senior, year, high, school, ., small, neighborhood, Brooklyn, falling, apart, SING, !, traditions, keeping, neighborhood, alive, ., Ne...|\n| 2462689|[Infuriated, told, write, final, column, laid, newspaper, job, ,, Ann, Mitchell, prints, letter, fictional, unemployed, \", John, Doe, \", threatening, suicide, Christmas, Eve, protest, society's, il...|\n|20532852|[line, people, drool, window, shop, market, butcher, Buzz, Buzzard, ., short, series, gags, ensues, Buzz, dishonestly, \", jacks, \", prices, ., Woody, broke, usual, ,, sneaks, gets, thrown, Buzz, .,...|\n|15401493|[Lola, attempts, gain, father's, trust, fund, hiring, Hispanic, husband, ,, Bo, ,, offering, $100,000, year, marries, ., Bo, accepts, ,, departs, Texas, home, returns, Lola, home, New, Mexico, ., L...|\n|18188932|[Milan, Goran, criminals, smuggle, illegal, immigrants, ., night, complete, smuggle, ,, discover, immigrants, left, baby, ., Milan, Goran, decide, sell, baby, Lubos, Eman, ,, responsible, running, ...|\n| 2940516|[Bumbling, pirate, crewman, kills, captain, learning, hidden, buried, treasure, ., begins, lose, memory, ,, relies, ghost, man, he's, murdered, help, find, treasure, ., film, provided, reunion, sor...|\n| 1335380|[film, based, events, happened, ship, Exodus, 1947, events, dealing, founding, state, Israel, 1948, ., Nurse, Katherine, \", Kitty, \", Fremont, American, volunteer, Karaolos, internment, camp, Cypru...|\n| 1480747|[{{plot}}, Following, sudden, death, Kid's, father, \", Pop, \", local, church, donated, scholarship, fund, Kid, college, ., Play, drives, sports, car, called, \", Foreplay, \", manager, record, store,...|\n|24448645|[Despite, Lucy's, reservations, ,, agrees, husband’s, request, attend, wild, party, lust, sexual, exploration, remote, island, ., passion, soon, turns, terror, discover, group, disappeared, ., star...|\n|15072401|[Alan, Colby, ,, heir, vast, fortune, ,, reappears, seven, year, absence, ,, murdered, claim, inheritance, ., Lowells, living, Colby, fortune, ,, trying, kill, Henrietta, Lowell, ,, matriarch, fami...|\n| 4018288|[Debbie's, favorite, band, Dream, Street, ,, favorite, member, Chris, Trousdale, ., Chris, gets, fever, travelling, Dream, Street, tour, ,, haze, ,, strays, away, ends, Debbie's, bed, ,, shock, \", ...|\n| 4596602|[Ashes, Ashes, set, London, ,, England, ., film, surreal, journey, dreams, misadventures, Gabriel, Darbeaux, young, screenwriter, martial, arts, enthusiast, supplements, income, escorting, wealthy,...|\n|15224586|[film, follows, experience, Vietnamese, refugees, United, States, immediately, following, Fall, Saigon, end, Vietnam, War, ., Tai, Tran, appointed, camp, translator, Gunnery, Sgt, ., Jim, Lance, .,...|\n+--------+--------------------------------------------------------------------------------------------------------------------------------------------------------------------------------------------------------+\nonly showing top 20 rows\n\n"
     ]
    }
   ],
   "source": [
    "# Make sure stopwords have been removed effecively\n",
    "results.select(\"id\", \"cleanTokens.result\").show(truncate = 200)"
   ]
  },
  {
   "cell_type": "code",
   "execution_count": 0,
   "metadata": {
    "application/vnd.databricks.v1+cell": {
     "cellMetadata": {},
     "inputWidgets": {},
     "nuid": "660e8da0-34f8-4a61-81e6-664ddd11a429",
     "showTitle": false,
     "title": ""
    }
   },
   "outputs": [],
   "source": [
    "# Convert dataframe into an RDD\n",
    "rdd = results.select(\"id\", \"cleanTokens.result\").rdd.map(tuple)"
   ]
  },
  {
   "cell_type": "code",
   "execution_count": 0,
   "metadata": {
    "application/vnd.databricks.v1+cell": {
     "cellMetadata": {},
     "inputWidgets": {},
     "nuid": "2f8f562a-36c8-437e-b9c9-5351eb6d7ef4",
     "showTitle": false,
     "title": ""
    }
   },
   "outputs": [],
   "source": [
    "# Create pair RDD where (word, ID), 1 to prepare to count term frequency per doc\n",
    "# Cache for access later \n",
    "cached_rdd = rdd.flatMap(lambda x: [(term, x[0]) for term in x[1]]).map(lambda x : (x, 1)).cache()"
   ]
  },
  {
   "cell_type": "code",
   "execution_count": 0,
   "metadata": {
    "application/vnd.databricks.v1+cell": {
     "cellMetadata": {},
     "inputWidgets": {},
     "nuid": "98b1628b-ffe4-4eb7-80ef-b5d6936b19e8",
     "showTitle": false,
     "title": ""
    }
   },
   "outputs": [],
   "source": [
    "# Count Term Frequency \n",
    "# RDD will display (Word, [('ID1', TFin1), ('ID2', 'TFin2)]) where Word is key, and value is a list of tuples that contain ID and TFinDoc \n",
    "tf_df = cached_rdd.reduceByKey(lambda x, y : x + y).map(lambda x : (x[0][0], (x[0][1], x[1]))).groupByKey().mapValues(list)"
   ]
  },
  {
   "cell_type": "code",
   "execution_count": 0,
   "metadata": {
    "application/vnd.databricks.v1+cell": {
     "cellMetadata": {},
     "inputWidgets": {},
     "nuid": "615930ee-3db3-46dd-af1f-63eb1f887ac9",
     "showTitle": false,
     "title": ""
    }
   },
   "outputs": [],
   "source": [
    "# Calculate frequency of docs that contain a specific term and save as part of each tuple. \n",
    "tf_idf = tf_df.mapValues(lambda x : [(t+(len(x),)) for t in x]).cache()"
   ]
  },
  {
   "cell_type": "code",
   "execution_count": 0,
   "metadata": {
    "application/vnd.databricks.v1+cell": {
     "cellMetadata": {},
     "inputWidgets": {},
     "nuid": "47a4523e-ed3b-4630-b4bc-59b9cbd42702",
     "showTitle": false,
     "title": ""
    }
   },
   "outputs": [
    {
     "output_type": "stream",
     "name": "stdout",
     "output_type": "stream",
     "text": [
      "Out[15]: 42306"
     ]
    }
   ],
   "source": [
    "# Get total number of docs for tf-idf calculation\n",
    "totalDocCount = results.count() \n",
    "totalDocCount"
   ]
  },
  {
   "cell_type": "code",
   "execution_count": 0,
   "metadata": {
    "application/vnd.databricks.v1+cell": {
     "cellMetadata": {},
     "inputWidgets": {},
     "nuid": "07d5da6b-d863-41c1-892e-fbd083c7e17b",
     "showTitle": false,
     "title": ""
    }
   },
   "outputs": [],
   "source": [
    "# Function to compute tf-idf \n",
    "def get_tfidf(tf, totalDocCount, docCount):  \n",
    "    idf = log(totalDocCount/docCount, 10)\n",
    "    result = tf * idf \n",
    "    return result "
   ]
  },
  {
   "cell_type": "code",
   "execution_count": 0,
   "metadata": {
    "application/vnd.databricks.v1+cell": {
     "cellMetadata": {},
     "inputWidgets": {},
     "nuid": "8fbfd94a-ac42-427d-bed2-21346437b6c4",
     "showTitle": false,
     "title": ""
    }
   },
   "outputs": [],
   "source": [
    "# Map step to calculate tf-idf for each tuple (ID, TF, DocF)\n",
    "inverted_index = tf_idf.mapValues(lambda x : [ \n",
    "    (values[0], values[1], get_tfidf(values[1], totalDocCount, values[2])) for values in x\n",
    "    ]\n",
    "                 )"
   ]
  },
  {
   "cell_type": "code",
   "execution_count": 0,
   "metadata": {
    "application/vnd.databricks.v1+cell": {
     "cellMetadata": {},
     "inputWidgets": {},
     "nuid": "d3a83861-4945-400c-94e8-72bc14db9367",
     "showTitle": false,
     "title": ""
    }
   },
   "outputs": [],
   "source": [
    "# Upload movie metadata to get movie titles\n",
    "movies = spark.read.csv(\"dbfs:/FileStore/shared_uploads/exc220012@utdallas.edu/movie_metadata.tsv\", sep=r'\\t', header=False)\n",
    "movies= movies.select(col(\"_c0\").alias(\"ID\"), col(\"_c2\").alias(\"Name\")).rdd.map(tuple)"
   ]
  },
  {
   "cell_type": "code",
   "execution_count": 0,
   "metadata": {
    "application/vnd.databricks.v1+cell": {
     "cellMetadata": {},
     "inputWidgets": {},
     "nuid": "ade8dc78-d4b5-4655-bc6e-7e4f631d09af",
     "showTitle": false,
     "title": ""
    }
   },
   "outputs": [],
   "source": [
    "# Upload search terms file \n",
    "queries = sc.textFile('dbfs:/FileStore/searchterms.txt')"
   ]
  },
  {
   "cell_type": "code",
   "execution_count": 0,
   "metadata": {
    "application/vnd.databricks.v1+cell": {
     "cellMetadata": {},
     "inputWidgets": {},
     "nuid": "29a81058-c1c5-419d-a3d7-33f1eb804ea4",
     "showTitle": false,
     "title": ""
    }
   },
   "outputs": [],
   "source": [
    "# view search terms\n",
    "searchterms = queries.collect() "
   ]
  },
  {
   "cell_type": "code",
   "execution_count": 0,
   "metadata": {
    "application/vnd.databricks.v1+cell": {
     "cellMetadata": {},
     "inputWidgets": {},
     "nuid": "28f63001-a8c6-48e7-84fc-8e28538f484e",
     "showTitle": false,
     "title": ""
    }
   },
   "outputs": [],
   "source": [
    "# Function to Retrieve top 10 results for single word query. \n",
    "def Top10SingleResults(word): \n",
    "    print(\"Finding results..\")\n",
    "    matches = inverted_index.lookup(word.lower()) # obtain values corresponding to key\n",
    "    if not matches: \n",
    "        print(\"No matches found\")\n",
    "        return \n",
    "    else : \n",
    "        sorted_results = sorted(*matches, key = lambda x: x[2], reverse=True) # sort in descending order by TF-IDF\n",
    "        top10 = sorted_results[0:10] \n",
    "        top10ids = list(zip(*top10))[0]\n",
    "        result = movies.filter(lambda x : x[0] in top10ids).values().collect()    # filter for movie IDs that match the top 10 list \n",
    "    return result \n"
   ]
  },
  {
   "cell_type": "code",
   "execution_count": 0,
   "metadata": {
    "application/vnd.databricks.v1+cell": {
     "cellMetadata": {},
     "inputWidgets": {},
     "nuid": "166464a2-a157-4ef4-8343-95188d746525",
     "showTitle": false,
     "title": ""
    }
   },
   "outputs": [],
   "source": [
    "# Collect list of movie ids as strings \n",
    "movieIds = df.select('ID').rdd.flatMap(lambda x: x).collect()"
   ]
  },
  {
   "cell_type": "code",
   "execution_count": 0,
   "metadata": {
    "application/vnd.databricks.v1+cell": {
     "cellMetadata": {},
     "inputWidgets": {},
     "nuid": "72c5b7db-e77d-420c-8252-1b6aa1ab9c97",
     "showTitle": false,
     "title": ""
    }
   },
   "outputs": [],
   "source": [
    "# Create dictionary to map movie IDs to integers for easier array operations in cosine similarity calculation\n",
    "movieid_lookup = {element: index for index, element in enumerate(movieIds)} \n",
    "movieid_lookup"
   ]
  },
  {
   "cell_type": "code",
   "execution_count": 0,
   "metadata": {
    "application/vnd.databricks.v1+cell": {
     "cellMetadata": {},
     "inputWidgets": {},
     "nuid": "23d54545-88c1-4357-8def-dd76c6e46436",
     "showTitle": false,
     "title": ""
    }
   },
   "outputs": [
    {
     "output_type": "stream",
     "name": "stdout",
     "output_type": "stream",
     "text": [
      "[0. 0. 0. ... 0. 0. 0.]\n"
     ]
    }
   ],
   "source": [
    "# Create array to store numerators of cosine similarity scores \n",
    "scores = np.zeros(totalDocCount) \n",
    "print(scores)"
   ]
  },
  {
   "cell_type": "code",
   "execution_count": 0,
   "metadata": {
    "application/vnd.databricks.v1+cell": {
     "cellMetadata": {},
     "inputWidgets": {},
     "nuid": "daeaea06-615d-48d7-b34f-1737ac313d6e",
     "showTitle": false,
     "title": ""
    }
   },
   "outputs": [
    {
     "output_type": "stream",
     "name": "stdout",
     "output_type": "stream",
     "text": [
      "Out[31]: array([ 21, 526, 321, ...,  82, 133, 367])"
     ]
    }
   ],
   "source": [
    "# Create array of document lengths for normalization step in cosine similarity\n",
    "doclengths = rdd.map(lambda x : (x[0], len(x[1]))).collect()\n",
    "lengths = np.zeros(totalDocCount, dtype = int)\n",
    "for x in doclengths: \n",
    "    index = movieid_lookup.get(x[0])\n",
    "    lengths[index] = x[1]\n",
    "\n",
    "lengths "
   ]
  },
  {
   "cell_type": "code",
   "execution_count": 0,
   "metadata": {
    "application/vnd.databricks.v1+cell": {
     "cellMetadata": {},
     "inputWidgets": {},
     "nuid": "6d54651a-141e-4ff4-9b66-d639e8d5ad8b",
     "showTitle": false,
     "title": ""
    }
   },
   "outputs": [],
   "source": [
    "# Function to update numerator of cosine similarity scores \n",
    "def update_score(postingslist): \n",
    "    for x in (postingslist): \n",
    "        index = movieid_lookup.get(x[0])\n",
    "        if scores[index] == 0: \n",
    "            scores[index] = x[2]\n",
    "        else: \n",
    "            scores[index] = scores[index] + x[2]\n"
   ]
  },
  {
   "cell_type": "code",
   "execution_count": 0,
   "metadata": {
    "application/vnd.databricks.v1+cell": {
     "cellMetadata": {},
     "inputWidgets": {},
     "nuid": "4e1bf916-83ae-4bcc-876d-74e78a0b56c2",
     "showTitle": false,
     "title": ""
    }
   },
   "outputs": [],
   "source": [
    "# Function to Retrieve top 10 Movie Names for Multi-Queries\n",
    "def top10MultiResults(scores): \n",
    "    # Getting the indexes of the top 10 scores. \n",
    "    top_10 = np.argpartition(scores, -10)[-10:]\n",
    "    # Obtain list of top 10 movie titles by using the indices of the scores array to look up the corresponding movie IDs in the lookup dict\n",
    "    top10list = []\n",
    "    for x in top_10: \n",
    "        top10list.append(list(movieid_lookup.keys())[list(movieid_lookup.values()).index(x)])\n",
    "    result = movies.filter(lambda x : x[0] in top10list).values().collect() \n",
    "    return result\n"
   ]
  },
  {
   "cell_type": "code",
   "execution_count": 0,
   "metadata": {
    "application/vnd.databricks.v1+cell": {
     "cellMetadata": {},
     "inputWidgets": {},
     "nuid": "c3cd0be2-2dff-4e16-8d4b-3d1d6822911b",
     "showTitle": false,
     "title": ""
    }
   },
   "outputs": [
    {
     "output_type": "stream",
     "name": "stdout",
     "output_type": "stream",
     "text": [
      "kill\nFinding results..\n['Puppet Master: The Legacy', 'Diljale', 'Demon Hunter', 'North and South', 'Tango Charlie', 'Hercules', \"The Warrior's Way\", 'U Turn', 'Stash House', 'Shadowboxer']\nOrange\nFinding results..\n['Mermaid Got Married', 'La Vampire Nue', 'Trading Places', 'Clean, Shaven', 'Sherlock Holmes and the House of Fear', 'Message from Space', 'Tweet and Sour', 'The House on Telegraph Hill', \"It's a Gift\", 'Laughter and Grief by the White Sea']\nAmerica\nFinding results..\n['The Adventures of Rusty']\nsaxophone\nFinding results..\n['Danny', 'Duet', 'Ibu Mertuaku', 'Some Like It Hot', 'The Conversation', \"St. Elmo's Fire\", 'New York, New York', \"You Don't Know What You're Doin'!\", 'Here Comes Mr. Jordan', 'The Three Wishes of Billy Grier']\npirate\nFinding results..\n['Dick Deadeye, or Duty Done', \"Pirates II: Stagnetti's Revenge\", 'Animal Treasure Island', 'Pirates of the Great Salt Lake', 'Raggedy Ann & Andy: A Musical Adventure', 'The Boat That Rocked', 'Case Closed: Jolly Rogers in the Deep Azure', 'The Pirate Movie', \"Pirates of the Caribbean: At World's End\", 'Aayirathil Oruvan']\ncollege\nFinding results..\n['Puthiya Mukham', 'Tucker & Dale vs Evil', 'Ambuli', 'Main Hoon Na', 'Chocolate', 'Ninaithale Inikkum', 'Accepted', 'Jo Jeeta Wohi Sikandar', 'An Extremely Goofy Movie', 'Sarvakalashala']\nadventure\nFinding results..\n['Meu Tio Matou Um Cara', 'The Adventures of Pureza', 'Scavenger Hunt', 'La Leyenda de la Llorona', 'The Adventure', 'Blackie & Kanuto', 'Max Steel: Countdown', 'Thor: Tales of Asgard', 'Wild Horse Hank', 'Hand in Hand']\nDog cat \nFinding results..\n['Wild Boy', 'Darling Companion', 'Restitution inattendue', \"A Dog's Day\", 'Love My Dog', 'The Heckling Hare', 'The Dog Problem', 'The University Days of a Dog', 'White Dog', 'Gone to the Dogs']\nRomantic comedy with funny male lead\nFinding results..\n['Blind Love', 'Eat me!', 'Pal Pal Dil Ke Ssaat', 'Marriage Story', 'Boldly Going Nowhere', 'Chatham', 'Manasina Maathu', 'Loop', 'New * Desired Sister-in-Law: Immoral Relations', 'Gagana']\n"
     ]
    }
   ],
   "source": [
    "# Script to Perform Searches \n",
    "# For each term in the text file, either outputs top 10 documents ranked by highest TF-IDF OR top 10 documents ranked by cosine similarity \n",
    "for query in searchterms: \n",
    "    print(query)\n",
    "    # Multi-query \n",
    "    if (\" \" in query): \n",
    "        search_tokens = word_tokenize(query)\n",
    "        tokens = [word for word in search_tokens if not word in stopwords.words()]\n",
    "        matches = []\n",
    "        for x in tokens: \n",
    "            results = inverted_index.lookup(x.lower())[0]\n",
    "            if not results: \n",
    "                print(\"No matches found\")\n",
    "            else: \n",
    "                matches.append(results) \n",
    "            for x in matches:\n",
    "                update_score(x)\n",
    "        # Normalize the cosine similarity score. \n",
    "        scores = np.divide(scores, lengths)\n",
    "        print(\"Finding results..\")\n",
    "        print(top10MultiResults(scores)) \n",
    "        scores.fill(0)\n",
    "\n",
    "    \n",
    "    else: \n",
    "        print(Top10SingleResults(query))\n",
    "    "
   ]
  }
 ],
 "metadata": {
  "application/vnd.databricks.v1+notebook": {
   "dashboards": [],
   "language": "python",
   "notebookMetadata": {
    "pythonIndentUnit": 4
   },
   "notebookName": "Search Engine for Movie Plot Summaries",
   "widgets": {}
  }
 },
 "nbformat": 4,
 "nbformat_minor": 0
}
